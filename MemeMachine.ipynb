{
 "cells": [
  {
   "cell_type": "markdown",
   "metadata": {},
   "source": [
    "# The Meme Machine"
   ]
  },
  {
   "cell_type": "markdown",
   "metadata": {},
   "source": [
    "### A short script to make dank meme compilations\n",
    "\n",
    "Currently the architecture works in multiple steps\n",
    "1. Create reddit instance in praw\n",
    "2. Use algo to pick out post to make dank meme video\n",
    "3. Grab the top comments of post\n",
    "4. Use tts to make it sing\n",
    "5. Create a table of your tts and get seconds for each one\n",
    "6. Splice it up with buffers\n",
    "7. Put it together into one audio\n",
    "8. Grab photos of posts\n",
    "9. Use photos as frames for movie\n",
    "10. Add backing track\n",
    "11. Overlay frmes with sound time\n",
    "12. Create thumbnail, outro and intro in web\n",
    "13. Upload to YT with api\n",
    "14. Reap the rewards"
   ]
  },
  {
   "cell_type": "code",
   "execution_count": 1,
   "metadata": {},
   "outputs": [],
   "source": [
    "import praw\n",
    "import pandas as pd\n",
    "import datetime as dt\n",
    "import unicodedata\n",
    "import numpy as np\n",
    "\n",
    "BASE_TRANSITION = 0\n",
    "SPLIT_TRANSITION = 1\n",
    "REPLY_TRANSITION = 2"
   ]
  },
  {
   "cell_type": "code",
   "execution_count": 100,
   "metadata": {},
   "outputs": [],
   "source": [
    "reddit = praw.Reddit(client_id='GO5OTc3JcEHijg',\n",
    "                    client_secret='4hYC9dphKz6ZgjlXnF8OvUl912c',\n",
    "                    user_agent='ece188project',\n",
    "                    username='turtle673',\n",
    "                    password='wizard')"
   ]
  },
  {
   "cell_type": "code",
   "execution_count": 101,
   "metadata": {},
   "outputs": [],
   "source": [
    "post = reddit.submission(id='bekeb1')\n",
    "post.comments.replace_more(limit=0);"
   ]
  },
  {
   "cell_type": "code",
   "execution_count": 437,
   "metadata": {},
   "outputs": [],
   "source": [
    "askReddit = reddit.subreddit('askreddit')\n",
    "\n",
    "title = post.title\n",
    "titleScore = post.score\n",
    "titleAuthor = '[deleted]' if post.author is None else post.author.name\n",
    "try:\n",
    "    titleSilver = post.gildings['gid_1']\n",
    "except:\n",
    "    titleSilver = 0\n",
    "try:\n",
    "    titleGold = post.gildings['gid_2']\n",
    "except:\n",
    "    titleGold = 0\n",
    "try:\n",
    "    titlePlat = post.gildings['gid_3']\n",
    "except:\n",
    "    titlePlat = 0\n",
    "\n",
    "comments = post.comments\n",
    "    \n",
    "sanitizedTitle = unicodedata.normalize('NFKD', title).encode('ascii', 'ignore')"
   ]
  },
  {
   "cell_type": "code",
   "execution_count": 438,
   "metadata": {},
   "outputs": [
    {
     "name": "stdout",
     "output_type": "stream",
     "text": [
      "There are 91 total comments\n"
     ]
    }
   ],
   "source": [
    "print(\"There are \" + str(len(comments)) + \" total comments\")"
   ]
  },
  {
   "cell_type": "code",
   "execution_count": 439,
   "metadata": {},
   "outputs": [],
   "source": [
    "def commentValue(comment):\n",
    "    c = len(comment.body)\n",
    "    charScore = c * 20 if c > 500 and c < 1000 else c * 10 if c > 1000 and c < 1500 else -1000000 if c > 2000 else c\n",
    "    upvoteScore = comment.score * 0.5 if comment.score > 100 else -1000000\n",
    "    gildScore = (comment.silver * 1000) + (comment.gold * 5000) + (comment.platinum * 20000)\n",
    "    if comment.reply is not None:\n",
    "        replyScore = commentValue(comment.reply)\n",
    "    else:\n",
    "        replyScore = 0\n",
    "    return int(charScore + upvoteScore + gildScore + replyScore)"
   ]
  },
  {
   "cell_type": "code",
   "execution_count": 440,
   "metadata": {},
   "outputs": [],
   "source": [
    "# holds all the info relating to rendering a single comment\n",
    "# in the reply field it is a pointer to the top reply of that comment\n",
    "# None if no eligible comment\n",
    "\n",
    "class CommentInfo:\n",
    "    def __init__(self, score, author, silver, gold, plat, html, commonBody):\n",
    "        self.score = score\n",
    "        self.author = author\n",
    "        self.silver = silver\n",
    "        self.gold = gold\n",
    "        self.platinum = plat\n",
    "        self.html_body = html\n",
    "        self.body = commonBody\n",
    "        self.reply = None\n"
   ]
  },
  {
   "cell_type": "code",
   "execution_count": 441,
   "metadata": {},
   "outputs": [],
   "source": [
    "import re\n",
    "\n",
    "def sanitizeString(comment):  \n",
    "    sanitizedComment = unicodedata.normalize('NFKD', comment).encode('ascii', 'ignore') + \" \"\n",
    "    s = re.sub(r'[\\[\\(]http.+?(?=[\\)\\]]).', '', sanitizedComment)\n",
    "    s2 = re.sub(r'http.+?(?=[ \\n])', '', s)\n",
    "    s3 = re.sub(r'^[\\[>]', '', s2, flags=re.M)\n",
    "    s4 = re.sub(r'(\\n(\\n{1,}))', '\\n', s3)\n",
    "    return s4.replace(\"&#x200B;\", \"\")\n",
    "\n",
    "def convertToHTML(body):\n",
    "    html = \"<p>\" + body.replace('\\n', '</p>\\n<p>').replace('<p></p>','').replace('<p> </p>','') + \"</p>\"\n",
    "    return html"
   ]
  },
  {
   "cell_type": "code",
   "execution_count": 442,
   "metadata": {},
   "outputs": [
    {
     "name": "stdout",
     "output_type": "stream",
     "text": [
      "Third level reply failed\n",
      "top Level reply failed\n",
      "top Level reply failed\n",
      "Third level reply failed\n",
      "Third level reply failed\n",
      "Third level reply failed\n",
      "Third level reply failed\n",
      "Third level reply failed\n",
      "top Level reply failed\n",
      "Third level reply failed\n",
      "Third level reply failed\n",
      "Third level reply failed\n",
      "top Level reply failed\n",
      "Third level reply failed\n",
      "Third level reply failed\n",
      "Third level reply failed\n",
      "top Level reply failed\n",
      "Third level reply failed\n",
      "Third level reply failed\n",
      "top Level reply failed\n",
      "Third level reply failed\n",
      "top Level reply failed\n",
      "top Level reply failed\n",
      "Third level reply failed\n",
      "top Level reply failed\n",
      "top Level reply failed\n",
      "top Level reply failed\n",
      "top Level reply failed\n",
      "Third level reply failed\n",
      "top Level reply failed\n",
      "top Level reply failed\n",
      "top Level reply failed\n",
      "Third level reply failed\n",
      "Third level reply failed\n"
     ]
    }
   ],
   "source": [
    "topComments= []\n",
    "commentInfoValues = []\n",
    "\n",
    "for comment in comments:\n",
    "      \n",
    "    sanitizedComment = sanitizeString(comment.body)\n",
    "    htmlComment = convertToHTML(sanitizedComment)\n",
    "    if htmlComment is None:\n",
    "        print(\"--------------ERROR-------------------\")\n",
    "        print(sanitizedComment)\n",
    "    \n",
    "    gild = comment.gildings\n",
    "    try:\n",
    "        numSilver = gild['gid_1']\n",
    "    except:\n",
    "        numSilver = 0\n",
    "    try:\n",
    "        numGold = gild['gid_2']\n",
    "    except:\n",
    "        numGold = 0\n",
    "    try:\n",
    "        numPlat = gild['gid_3']\n",
    "    except:\n",
    "        numPlat = 0\n",
    "    name = 'anonymous' if comment.author is None else comment.author.name\n",
    "    \n",
    "    base = CommentInfo(comment.score, name, numSilver, numGold, numPlat, htmlComment, sanitizedComment)\n",
    "    value = commentValue(base)\n",
    "    \n",
    "    if value < 0:\n",
    "        continue\n",
    "    \n",
    "    # get top reply\n",
    "    replyInfo = []\n",
    "    for c in comment.replies:\n",
    "        replyScore = c.score\n",
    "        replyAuthor = 'anonymous' if c.author is None else c.author.name\n",
    "        try:\n",
    "            replySilver = c.gildings['gid_1']\n",
    "        except:\n",
    "            replySilver = 0\n",
    "        try:\n",
    "            replyGold = c.gildings['gid_2']\n",
    "        except:\n",
    "            replyGold = 0\n",
    "        try:\n",
    "            replyPlat = c.gildings['gid_3']\n",
    "        except:\n",
    "            replyPlat = 0\n",
    "        sanitizedReply = sanitizeString(c.body)\n",
    "        htmlReply = convertToHTML(sanitizedReply)\n",
    "        \n",
    "        #reply1 = CommentInfo(replyScore, replyAuthor, replySilver, replyGold, replyPlat, c.body_html.encode(\"utf8\").replace(\"\\xe2\\x80\\x99\", \"'\").replace(\"&amp;\", \"and\").replace(\"&#39;\", \"'\"), sanitizedReply)\n",
    "        reply1 = CommentInfo(replyScore, replyAuthor, replySilver, replyGold, replyPlat, htmlReply, sanitizedReply)\n",
    "        replyValue = commentValue(reply1)\n",
    "        replyInfo.append((replyValue, reply1, c))\n",
    "    \n",
    "    replyInfo.sort(reverse=True)\n",
    "    try:\n",
    "        topReply = replyInfo[0]  \n",
    "        # get top reply of top reply\n",
    "        thirdInfo = []\n",
    "        for third in topReply[2].replies:\n",
    "            thirdScore = third.score\n",
    "            thirdAuthor = 'anonymous' if third.author is None else third.author.name\n",
    "            try:\n",
    "                thirdSilver = third.gildings['gid_1']\n",
    "            except:\n",
    "                thirdSilver = 0\n",
    "            try:\n",
    "                thirdGold = third.gildings['gid_2']\n",
    "            except:\n",
    "                thirdGold = 0\n",
    "            try:\n",
    "                thirdPlat = third.gildings['gid_3']\n",
    "            except:\n",
    "                thirdPlat = 0\n",
    "            sanitizedThird = sanitizeString(third.body)\n",
    "            thirdHTML = convertToHTML(sanitizedThird)\n",
    "            \n",
    "            thirdI = CommentInfo(thirdScore, thirdAuthor, thirdSilver, thirdGold, thirdPlat, thirdHTML, sanitizedThird)\n",
    "            thirdValue = commentValue(thirdI)\n",
    "            thirdInfo.append((thirdValue, thirdI, third))\n",
    "\n",
    "        thirdInfo.sort(reverse=True)\n",
    "        try:\n",
    "            topThirdReply = thirdInfo[0]\n",
    "        except:\n",
    "            print(\"Third level reply failed\")\n",
    "            topThirdReply = [-10000000]\n",
    "    except:\n",
    "        print(\"top Level reply failed\")\n",
    "        topReply = [-10000000]\n",
    "  \n",
    "    # creating reply chain\n",
    "    scalar = 0.5\n",
    "    if topReply[0] > value * scalar:\n",
    "        base.reply = topReply[1]\n",
    "        if topThirdReply[0] > topReply[0] * scalar:\n",
    "            topReply[1].reply = topThirdReply[1]\n",
    "    \n",
    "    commentInfoValues.append((value, base))"
   ]
  },
  {
   "cell_type": "code",
   "execution_count": 443,
   "metadata": {},
   "outputs": [
    {
     "name": "stdout",
     "output_type": "stream",
     "text": [
      "There are 77 comments remaining\n"
     ]
    }
   ],
   "source": [
    "# gaming more valuable comments\n",
    "commentInfoValues.sort(reverse=True)\n",
    "commentInfo = []\n",
    "for i in range(len(commentInfoValues)):\n",
    "    commentInfo.append(commentInfoValues[i][1])\n",
    "\n",
    "print(\"There are \" + str(len(commentInfo)) + \" comments remaining\")"
   ]
  },
  {
   "cell_type": "code",
   "execution_count": 444,
   "metadata": {},
   "outputs": [],
   "source": [
    "profanity = []\n",
    "bannedWords = open(\"profanity.txt\", \"r\")\n",
    "for w in bannedWords:\n",
    "    profanity.append(w.replace(\"\\n\", \"\"))\n",
    "    \n",
    "flaggedComments = []\n",
    "for info in commentInfo:\n",
    "    comment = info.body\n",
    "    comment = comment.lower()\n",
    "    unacceptable = 0\n",
    "    for w in profanity:\n",
    "        if w in comment:\n",
    "            unacceptable += 1\n",
    "\n",
    "    flaggedComments.append(unacceptable/float(len(comment)) >= 0.2)\n",
    "    \n",
    "flaggedComments = np.asarray(flaggedComments)\n",
    "commentInfo = np.asarray(commentInfo)\n",
    "acceptable = commentInfo[~flaggedComments]"
   ]
  },
  {
   "cell_type": "code",
   "execution_count": 445,
   "metadata": {},
   "outputs": [
    {
     "data": {
      "text/plain": [
       "77"
      ]
     },
     "execution_count": 445,
     "metadata": {},
     "output_type": "execute_result"
    }
   ],
   "source": [
    "len(commentInfo)"
   ]
  },
  {
   "cell_type": "markdown",
   "metadata": {},
   "source": [
    "# Creating Images"
   ]
  },
  {
   "cell_type": "markdown",
   "metadata": {},
   "source": [
    "### Get Comment Images"
   ]
  },
  {
   "cell_type": "code",
   "execution_count": 446,
   "metadata": {},
   "outputs": [],
   "source": [
    "import cv2\n",
    "import os\n",
    "from selenium import webdriver\n",
    "from selenium.webdriver.support.ui import WebDriverWait\n",
    "from selenium.webdriver.support import expected_conditions as EC\n",
    "from selenium.webdriver.common.by import By\n",
    "import urllib\n",
    "\n",
    "videoSize = (1280, 720)\n",
    "\n",
    "j = -1\n",
    "#for i in range(len(commentInfo)):\n",
    "i = 0\n",
    "size = len(acceptable)\n",
    "\n",
    "def renderComment(driver, comment, i, screenshot):\n",
    "    fName = \"\"\n",
    "    score = comment.score\n",
    "    user = comment.author\n",
    "    silver = comment.silver\n",
    "    gold = comment.gold\n",
    "    plat = comment.platinum\n",
    "    body = comment.html_body\n",
    "    url = \"http://localhost:8000?score=\" + str(score)\\\n",
    "            + \"&user=\" + user\\\n",
    "            + \"&silver=\" + str(silver)\\\n",
    "            + \"&gold=\" + str(gold)\\\n",
    "            + \"&platinum=\" + str(plat)\\\n",
    "            + \"&comment=\" + urllib.quote_plus(body)\n",
    "    try:\n",
    "        driver.get(url)\n",
    "        if screenshot:\n",
    "            fName = '/tmp/comment-' + str(i) + '-.png'\n",
    "            screenshot = driver.save_screenshot(fName)\n",
    "        return fName\n",
    "    except:\n",
    "        print(\"timeout exception fetching URL, failing\")\n",
    "        raise Exception(\"timeout exception\")\n",
    "\n",
    "    \n",
    "def renderComments(comments, screenshot):\n",
    "    #DRIVER = 'chromedriver'\n",
    "    #driver = webdriver.Chrome(DRIVER)\n",
    "    driver = webdriver.Firefox()\n",
    "    driver.set_window_size(videoSize[0], videoSize[1])\n",
    "    driver.set_page_load_timeout(5)\n",
    "    success = []\n",
    "    count = 0\n",
    "    for c in comments:\n",
    "        try:\n",
    "            c.image = renderComment(driver, c.commentInfo, count, screenshot)\n",
    "            success.append(True)\n",
    "            count += 1\n",
    "        except:\n",
    "            success.append(False)\n",
    "    driver.quit()\n",
    "    return success"
   ]
  },
  {
   "cell_type": "code",
   "execution_count": 447,
   "metadata": {},
   "outputs": [],
   "source": [
    "from HTMLParser import HTMLParser\n",
    "\n",
    "class MLStripper(HTMLParser):\n",
    "    def __init__(self):\n",
    "        self.reset()\n",
    "        self.fed = []\n",
    "    def handle_data(self, d):\n",
    "        self.fed.append(d)\n",
    "    def get_data(self):\n",
    "        return ''.join(self.fed)\n",
    "\n",
    "def strip_tags(html):\n",
    "    s = MLStripper()\n",
    "    s.feed(html)\n",
    "    return s.get_data()"
   ]
  },
  {
   "cell_type": "code",
   "execution_count": 448,
   "metadata": {},
   "outputs": [],
   "source": [
    "def getCommentSplits(c):\n",
    "    numMatching = 20\n",
    "    groups = c.html_body.split(\"<p>\")\n",
    "    paras = []\n",
    "    for p in groups:\n",
    "        if len(p) > 0:\n",
    "            paras.append(\"<p>\" + p)\n",
    "\n",
    "    sets = []\n",
    "    s = \"\"\n",
    "    count = 0\n",
    "    for i in range(len(paras)):\n",
    "        if (count % 3) == 0 or len(s) > 1500:\n",
    "            sets.append(s)\n",
    "            s = \"\"\n",
    "            count = 0\n",
    "        s = s + paras[i]\n",
    "        count += 1\n",
    "    sets = sets[1:]\n",
    "    sets.append(s)\n",
    "    \n",
    "    indices = []\n",
    "\n",
    "    for s in sets:\n",
    "        try:\n",
    "            saniKey = strip_tags(s)\n",
    "            key = saniKey[:numMatching] if len(saniKey) > numMatching else saniKey[:10] if len(saniKey) > 10 else saniKey[:5]\n",
    "            idx = c.body.index(key)\n",
    "            indices.append(idx)\n",
    "        except:\n",
    "            print(\"Failed To Find Substring\")\n",
    "            print(\"-----------FULL_KEY----------------\")\n",
    "            print(repr(saniKey))\n",
    "            print(\"-----------SanitizedHTML_KEY-------------\")\n",
    "            print(repr(key))\n",
    "            print(\"-----------Actual_BODY---------------\")\n",
    "            print(repr(c.body))\n",
    "            raise e\n",
    "        \n",
    "    bodyPairs = []\n",
    "    for i in range(0, len(indices)):\n",
    "        if i == 0:\n",
    "            commonBody = c.body[:indices[1]] if len(indices) != 1 else c.body\n",
    "            bodyPairs.append((commonBody, sets[i]))\n",
    "            continue\n",
    "        if i == len(indices)-1:\n",
    "            commonBody = c.body[indices[i]:]\n",
    "            bodyPairs.append((commonBody, sets[i]))\n",
    "            continue\n",
    "        before = indices[i]\n",
    "        after = indices[i+1]\n",
    "        commonBody = c.body[before:after]\n",
    "        bodyPairs.append((commonBody, sets[i]))\n",
    "\n",
    "    commentSplits = []\n",
    "    for p in bodyPairs:\n",
    "        commentSplits.append(CommentInfo(c.score, c.author, c.silver, c.gold, c.platinum, p[1], p[0]))\n",
    "    return commentSplits"
   ]
  },
  {
   "cell_type": "code",
   "execution_count": 449,
   "metadata": {},
   "outputs": [],
   "source": [
    "count = 0\n",
    "class CommentClip:\n",
    "    def __init__(self, commentInfo, transitionType):\n",
    "        self.commentInfo = commentInfo\n",
    "        self.transitionType = transitionType\n",
    "        self.audio = None\n",
    "        self.image = None\n",
    "'''      \n",
    "commentQueue = []\n",
    "for cInfo in acceptable:\n",
    "    commentQueue.append(CommentClip(cInfo, BASE_TRANSITION))\n",
    "    if cInfo.reply is not None:\n",
    "        commentQueue.append(CommentClip(cInfo.reply, REPLY_TRANSITION))\n",
    "        if cInfo.reply.reply is not None:\n",
    "            commentQueue.append(CommentClip(cInfo.reply.reply, REPLY_TRANSITION))\n",
    "''' \n",
    "commentQueue = []\n",
    "for cInfo in acceptable:\n",
    "    splits = getCommentSplits(cInfo)\n",
    "    commentQueue.append(CommentClip(splits[0], BASE_TRANSITION))\n",
    "    if len(splits) != 1:\n",
    "        for s in splits[1:]:\n",
    "            commentQueue.append(CommentClip(s, SPLIT_TRANSITION))\n",
    "    if cInfo.reply is not None:\n",
    "        splits = getCommentSplits(cInfo.reply)\n",
    "        commentQueue.append(CommentClip(splits[0], REPLY_TRANSITION))\n",
    "        if len(splits) != 1:\n",
    "            for s in splits[1:]:\n",
    "                commentQueue.append(CommentClip(s, SPLIT_TRANSITION))\n",
    "        if cInfo.reply.reply is not None:\n",
    "            splits = getCommentSplits(cInfo.reply.reply)\n",
    "            commentQueue.append(CommentClip(splits[0], REPLY_TRANSITION))\n",
    "            if len(splits) != 1:\n",
    "                for s in splits[1:]:\n",
    "                    commentQueue.append(CommentClip(s, SPLIT_TRANSITION))\n",
    "\n"
   ]
  },
  {
   "cell_type": "code",
   "execution_count": 450,
   "metadata": {},
   "outputs": [
    {
     "data": {
      "text/plain": [
       "'\\nc = acceptable[17]\\ngroups = c.html_body.split(\"<p>\")\\nparas = []\\nfor p in groups:\\n    if len(p) > 0:\\n        paras.append(\"<p>\" + p)\\n\\nsets = []\\ns = \"\"\\ncount = 0\\nfor i in range(len(paras)):\\n    if (count % 3) == 0 or len(s) > 1500:\\n        sets.append(s)\\n        s = \"\"\\n        count = 0\\n    s = s + paras[i]\\n    count += 1\\nsets = sets[1:]\\nsets.append(s)\\n\\nindices = []\\nfor s in sets:\\n    try:\\n        saniKey = strip_tags(s)\\n        key = saniKey[:15] if len(saniKey.split(\\'\\n\\')[0]) > 15 else saniKey.split(\\'\\n\\')[0]\\n        idx = c.body.index(key)\\n        indices.append(idx)\\n    except:\\n        print(\"Failed To Find Substring\")\\n        print(\"-----------SanitizedHTML_KEY-------------\")\\n        print(repr(key))\\n        print(\"-----------Actual_BODY---------------\")\\n        print(repr(c.body))\\n        raise e\\n\\nfor cI in getCommentSplits(acceptable[17]):\\n    print(\"----------------------\")\\n    print(cI.body)\\n'"
      ]
     },
     "execution_count": 450,
     "metadata": {},
     "output_type": "execute_result"
    }
   ],
   "source": [
    "'''\n",
    "c = acceptable[17]\n",
    "groups = c.html_body.split(\"<p>\")\n",
    "paras = []\n",
    "for p in groups:\n",
    "    if len(p) > 0:\n",
    "        paras.append(\"<p>\" + p)\n",
    "\n",
    "sets = []\n",
    "s = \"\"\n",
    "count = 0\n",
    "for i in range(len(paras)):\n",
    "    if (count % 3) == 0 or len(s) > 1500:\n",
    "        sets.append(s)\n",
    "        s = \"\"\n",
    "        count = 0\n",
    "    s = s + paras[i]\n",
    "    count += 1\n",
    "sets = sets[1:]\n",
    "sets.append(s)\n",
    "\n",
    "indices = []\n",
    "for s in sets:\n",
    "    try:\n",
    "        saniKey = strip_tags(s)\n",
    "        key = saniKey[:15] if len(saniKey.split('\\n')[0]) > 15 else saniKey.split('\\n')[0]\n",
    "        idx = c.body.index(key)\n",
    "        indices.append(idx)\n",
    "    except:\n",
    "        print(\"Failed To Find Substring\")\n",
    "        print(\"-----------SanitizedHTML_KEY-------------\")\n",
    "        print(repr(key))\n",
    "        print(\"-----------Actual_BODY---------------\")\n",
    "        print(repr(c.body))\n",
    "        raise e\n",
    "\n",
    "for cI in getCommentSplits(acceptable[17]):\n",
    "    print(\"----------------------\")\n",
    "    print(cI.body)\n",
    "'''"
   ]
  },
  {
   "cell_type": "code",
   "execution_count": 451,
   "metadata": {},
   "outputs": [],
   "source": [
    "renderedCorrectly = renderComments(commentQueue, True)\n",
    "\n",
    "#rendered = renderComments([CommentClip(CommentInfo(200,\"me\",0,0,0,\"<p>HelloWorld<io1><lk12></span></p>\", \"junk\"), False)],True)"
   ]
  },
  {
   "cell_type": "code",
   "execution_count": 452,
   "metadata": {},
   "outputs": [],
   "source": [
    "commentQueue = np.asarray(commentQueue)\n",
    "renderedCorrectly = np.asarray(renderedCorrectly)\n",
    "'''\n",
    "errors = np.where(renderedCorrectly == False)\n",
    "for eIndex in errors:\n",
    "    try:\n",
    "        nextComment = commentQueue[eIndex+1]\n",
    "        if nextComment.isReply:\n",
    "            renderedCorrectly[eIndex+1] = False\n",
    "            if commentQueue[eIndex+2].isReply\n",
    "                renderedCorrectly[eIndex+2] = False\n",
    "'''\n",
    "        \n",
    "commentQueue = commentQueue[np.asarray(renderedCorrectly)]"
   ]
  },
  {
   "cell_type": "code",
   "execution_count": 453,
   "metadata": {},
   "outputs": [
    {
     "name": "stdout",
     "output_type": "stream",
     "text": [
      "There are 77 comments remaining\n"
     ]
    }
   ],
   "source": [
    "print(\"There are \" + str(len(acceptable)) + \" comments remaining\")"
   ]
  },
  {
   "cell_type": "markdown",
   "metadata": {},
   "source": [
    "### Get Title and Outro Image"
   ]
  },
  {
   "cell_type": "code",
   "execution_count": 454,
   "metadata": {},
   "outputs": [],
   "source": [
    "driver = webdriver.Firefox()\n",
    "driver.set_window_size(videoSize[0], videoSize[1])\n",
    "url = \"http://localhost:8000/title.html?score=\" + str(titleScore)\\\n",
    "        + \"&user=\" + titleAuthor\\\n",
    "        + \"&silver=\" + str(titleSilver)\\\n",
    "        + \"&gold=\" + str(titleGold)\\\n",
    "        + \"&platinum=\" + str(titlePlat)\\\n",
    "        + \"&comment=\" + urllib.quote_plus(sanitizedTitle)\n",
    "\n",
    "driver.get(url)\n",
    "screenshot = driver.save_screenshot('/tmp/title-slide.png')\n",
    "\n",
    "url = \"http://localhost:8000/outro.html\"\n",
    "driver.get(url)\n",
    "screenshot = driver.save_screenshot('/tmp/outro-slide.png')\n",
    "\n",
    "driver.quit()"
   ]
  },
  {
   "cell_type": "markdown",
   "metadata": {},
   "source": [
    "### Given an array of sanitized top comments, get tts audio for each"
   ]
  },
  {
   "cell_type": "code",
   "execution_count": 455,
   "metadata": {},
   "outputs": [],
   "source": [
    "from gtts import gTTS\n",
    "from playsound import playsound\n",
    "from pydub import AudioSegment\n",
    "import scipy.io.wavfile as wav\n",
    "import resampy"
   ]
  },
  {
   "cell_type": "code",
   "execution_count": 456,
   "metadata": {},
   "outputs": [],
   "source": [
    "def createTTS(comment, i):\n",
    "    fName = createWav(comment, i)\n",
    "    changeRate(fName, 25500)\n",
    "    rsName = resampleWav(fName, 44100)\n",
    "    return rsName\n",
    "\n",
    "def createWav(comment, i):\n",
    "    tts = gTTS(comment, lang='en')\n",
    "    fName = \"theOneTrueMeme\" + str(i) + \".mp3\"\n",
    "    tts.save(\"/tmp/\" + fName)\n",
    "    sound = AudioSegment.from_mp3(\"/tmp/\" + fName)\n",
    "    wavName = \"theOneTrueMeme\" + str(i) + \".wav\"\n",
    "    sound.export(\"/tmp/\" + wavName, format='wav')\n",
    "    return wavName\n",
    "\n",
    "def changeRate(fName, rate):\n",
    "    originalRate, data = wav.read(\"/tmp/\" + fName)\n",
    "    wav.write(\"/tmp/\" + fName, rate, data)\n",
    "    \n",
    "def resampleWav(fName, newRate):\n",
    "    rate, data = wav.read(\"/tmp/\" + fName)\n",
    "    rsData = resampy.resample(data, rate, newRate)\n",
    "    rsName = \"/tmp/rs\" + fName\n",
    "    wav.write(rsName, newRate, rsData)\n",
    "    return rsName"
   ]
  },
  {
   "cell_type": "code",
   "execution_count": 457,
   "metadata": {},
   "outputs": [],
   "source": [
    "createTTS(sanitizedTitle, 0)\n",
    "\n",
    "# todo perform DFS on acceptable commentInfos, making TTS of each\n",
    "# all commentInfos in acceptable can be rendered due to above\n",
    "for i in range(len(commentQueue)):\n",
    "    try:\n",
    "        commentQueue[i].audio = createTTS(commentQueue[i].commentInfo.body, i+1)\n",
    "    except:\n",
    "        print(i)\n",
    "        break\n",
    "\n",
    "wav.write(\"/tmp/buffer.wav\", 44100, np.zeros(44100, np.int16))"
   ]
  },
  {
   "cell_type": "code",
   "execution_count": 458,
   "metadata": {},
   "outputs": [
    {
     "data": {
      "text/plain": [
       "<open file '/tmp/ending.wav', mode 'wb+' at 0x7f6894b948a0>"
      ]
     },
     "execution_count": 458,
     "metadata": {},
     "output_type": "execute_result"
    }
   ],
   "source": [
    "backingTrack = AudioSegment.from_mp3('bensound-summer.mp3')\n",
    "backingTrack.export('/tmp/background.wav', format='wav')\n",
    "endingTrack = AudioSegment.from_mp3('bensound-ukulele.mp3')\n",
    "endingTrack.export('/tmp/ending.wav', format='wav')"
   ]
  },
  {
   "cell_type": "code",
   "execution_count": 459,
   "metadata": {},
   "outputs": [
    {
     "name": "stdout",
     "output_type": "stream",
     "text": [
      "44100\n"
     ]
    }
   ],
   "source": [
    "rate, data = wav.read(\"/tmp/rstheOneTrueMeme3.wav\")\n",
    "print(rate)"
   ]
  },
  {
   "cell_type": "code",
   "execution_count": 460,
   "metadata": {},
   "outputs": [],
   "source": [
    "backingRate, backingData = wav.read('/tmp/background.wav')\n",
    "endingRate, endingData = wav.read('/tmp/ending.wav')\n",
    "wavData = []\n",
    "rate = 44100\n",
    "\n",
    "#append title tts\n",
    "rate, data = wav.read(\"/tmp/rstheOneTrueMeme0.wav\")\n",
    "wavData.append(data)\n",
    "\n",
    "for i in range(len(commentQueue)):\n",
    "    rate, data = wav.read(commentQueue[i].audio)\n",
    "    wavData.append(data)\n",
    "    \n",
    "bRate, bufferData = wav.read(\"/tmp/buffer.wav\")"
   ]
  },
  {
   "cell_type": "code",
   "execution_count": 461,
   "metadata": {},
   "outputs": [
    {
     "name": "stdout",
     "output_type": "stream",
     "text": [
      "[ 259  370  346  284  487  120  144  114  112   49  104  279  531  724\n",
      "  237  126   42  239  298  278  108 1421 1160  172  130  163   46  284\n",
      "  308  317  307  207  472  368  346  470  362  466  389  488  492  589\n",
      "  357  441 1053  449  186 1472  998 1188  516  534  987  312  314  205\n",
      "  114   80  277  272   36  273  279  227  342   81  177  412  156  215\n",
      "  173   55  169  385   59  820  122   49  122  887  741   70  286  531\n",
      "  173  299  155  140  385  101   99  109  284   59  109  214  161  159\n",
      "  226  305  252  114  359  606  137  395  275  105  401  370  328  130\n",
      "   51   97  248   83  108  229  247   76   46  173  255  169  221   99\n",
      "  331  146   54   59   24  320]\n"
     ]
    }
   ],
   "source": [
    "wavTimes = np.array([len(data) / float(44100) for data in wavData])\n",
    "framesPerCommentAt32fps = wavTimes * 32\n",
    "framesPerCommentAt32fps = framesPerCommentAt32fps.astype(int)\n",
    "\n",
    "# append outro slide time 10s\n",
    "framesPerCommentAt32fps = np.append(framesPerCommentAt32fps, (32 * 10))\n",
    "print(framesPerCommentAt32fps)"
   ]
  },
  {
   "cell_type": "code",
   "execution_count": 462,
   "metadata": {},
   "outputs": [
    {
     "name": "stdout",
     "output_type": "stream",
     "text": [
      "Stop Point is: 49\n"
     ]
    }
   ],
   "source": [
    "# limit it to over 32 * 60 * 10 = 19200 frames\n",
    "sumFrames = 0\n",
    "stopPoint = 0\n",
    "while sumFrames < 19200:\n",
    "    sumFrames += framesPerCommentAt32fps[stopPoint]\n",
    "    if sumFrames > 19200 or stopPoint >= len(framesPerCommentAt32fps)-1:\n",
    "        break\n",
    "    stopPoint += 1\n",
    "\n",
    "print(\"Stop Point is: \" + str(stopPoint))"
   ]
  },
  {
   "cell_type": "code",
   "execution_count": 463,
   "metadata": {},
   "outputs": [],
   "source": [
    "framesPerCommentAt32fps = framesPerCommentAt32fps[:stopPoint+1]\n",
    "\n",
    "# append 10s outro\n",
    "framesPerCommentAt32fps = np.append(framesPerCommentAt32fps, 320)"
   ]
  },
  {
   "cell_type": "code",
   "execution_count": 464,
   "metadata": {},
   "outputs": [],
   "source": [
    "# intro slide\n",
    "mid = int(len(bufferData)/2)\n",
    "combined = np.concatenate([bufferData[:mid], wavData[0], bufferData[mid:]])\n",
    "\n",
    "# body slides\n",
    "for i in range(1, stopPoint+1):\n",
    "    if i == stopPoint or i == len(wavData)-1:\n",
    "        combined = np.concatenate([combined, wavData[i]])\n",
    "        break\n",
    "    else:\n",
    "        combined = np.concatenate([combined, wavData[i], bufferData])\n",
    "    \n",
    "# ending slides\n",
    "#combined = np.concatenate([combined, bufferData, bufferData, bufferData, bufferData, bufferData])"
   ]
  },
  {
   "cell_type": "code",
   "execution_count": 465,
   "metadata": {},
   "outputs": [],
   "source": [
    "wav.write(\"/tmp/allComments.wav\", 44100, combined)"
   ]
  },
  {
   "cell_type": "code",
   "execution_count": 466,
   "metadata": {},
   "outputs": [],
   "source": [
    "# removing backing sound from introduction\n",
    "\n",
    "introLength = len(wavData[0]) + len(bufferData)\n",
    "introPause = np.zeros((introLength, 2), dtype=np.int16)\n",
    "backingWithIntroPause = np.concatenate([introPause, backingData])"
   ]
  },
  {
   "cell_type": "code",
   "execution_count": 467,
   "metadata": {},
   "outputs": [
    {
     "data": {
      "text/plain": [
       "(9990962, 2)"
      ]
     },
     "execution_count": 467,
     "metadata": {},
     "output_type": "execute_result"
    }
   ],
   "source": [
    "backingWithIntroPause.shape"
   ]
  },
  {
   "cell_type": "code",
   "execution_count": 468,
   "metadata": {},
   "outputs": [],
   "source": [
    "newTTS = np.divide(combined, 2)\n",
    "stereoTTS = np.transpose(np.stack((newTTS, newTTS)))\n",
    "\n",
    "backingExtended = backingWithIntroPause\n",
    "while len(backingExtended) < len(stereoTTS):\n",
    "    backingExtended = np.concatenate([backingExtended, backingData])\n",
    "    \n",
    "reducedBacking = np.divide(backingExtended, 16)\n",
    "together = np.add(stereoTTS, reducedBacking[:len(stereoTTS)])\n",
    "togetherWithEnding = np.concatenate([together, endingData[:(44100*10)]])\n",
    "\n",
    "wav.write('/tmp/combinedBacking.wav', 44100, togetherWithEnding)"
   ]
  },
  {
   "cell_type": "markdown",
   "metadata": {},
   "source": [
    "### Only create video that is 10 minutes long"
   ]
  },
  {
   "cell_type": "code",
   "execution_count": 469,
   "metadata": {},
   "outputs": [
    {
     "data": {
      "text/plain": [
       "130"
      ]
     },
     "execution_count": 469,
     "metadata": {},
     "output_type": "execute_result"
    }
   ],
   "source": [
    "len(commentQueue)"
   ]
  },
  {
   "cell_type": "code",
   "execution_count": 470,
   "metadata": {},
   "outputs": [],
   "source": [
    "from scipy.misc import imsave\n",
    "import imageio\n",
    "\n",
    "folder = '/tmp'\n",
    "commentQueue = commentQueue[:stopPoint]\n",
    "frames = [(c.image, c.transitionType) for c in commentQueue]"
   ]
  },
  {
   "cell_type": "code",
   "execution_count": 471,
   "metadata": {},
   "outputs": [],
   "source": [
    "for i in range(len(frames)):\n",
    "    if(i == len(frames)-1):\n",
    "        break;\n",
    "        \n",
    "    leaving = frames[i][0]\n",
    "    entering = frames[i+1][0]\n",
    "    \n",
    "    tt = frames[i+1][1]\n",
    "    \n",
    "    im1 = cv2.imread(leaving)\n",
    "    im2 = cv2.imread(entering)\n",
    "    im1 = cv2.cvtColor(im1, cv2.COLOR_BGR2RGB)\n",
    "    im2 = cv2.cvtColor(im2, cv2.COLOR_BGR2RGB)\n",
    "    height, width, depth = im1.shape\n",
    "    \n",
    "    if tt == BASE_TRANSITION: # horizontal transition\n",
    "        margin = [53,53,53] * np.ones((height, width/4, 1))\n",
    "        margin = margin.astype(int)\n",
    "        transitionFull = np.concatenate((im1, margin, im2), axis=1).astype('uint8')\n",
    "\n",
    "        tH, tW, tD = transitionFull.shape\n",
    "        speed = [0.1,0.2,0.3,0.4,0.55,0.7,0.85,1,1,1.15,1.3,1.45,1.6,1.7,1.8,1.9,\n",
    "                1.9,1.8,1.7,1.6,1.45,1.3,1.15,1,1,0.85,0.7,0.55,0.4,0.3,0.2,0.1]\n",
    "        for offset in range(32):\n",
    "            origin = int(sum(speed[:offset+1]) * (tW - width) / 32)\n",
    "            transitionFrame = transitionFull[:, origin:width+origin]\n",
    "            imageio.imwrite(\"/tmp/transition\" + str(i) + \"-\" + str(i+1) + \"f\" + str(offset) + \".png\", transitionFrame)\n",
    "    \n",
    "    elif tt == REPLY_TRANSITION:  # transition up with previous poster sticky, finally pushes out of way at last frames\n",
    "        margin = [53,53,53] * np.ones((height/4, width, 1))\n",
    "        margin = margin.astype(int)\n",
    "        transitionFull = np.concatenate((im1,margin,im2), axis=0).astype('uint8')\n",
    "        \n",
    "        tH, tW, tD = transitionFull.shape\n",
    "        speed1 = [0.2,0.3,0.4,0.5,0.6, 0.7, 0.8 ,0.9,1.1,1.3,1.5,1.7,\n",
    "                1.7,1.5,1.3,1.2,1.1,1,1,1,1,1,1,1]\n",
    "        speed2 = [1,1,1,1,1,1,1,1]\n",
    "        for offset in range(24):\n",
    "            headerSize = int(videoSize[1] * 0.2)\n",
    "            header = transitionFull[:headerSize, :]\n",
    "        \n",
    "            body = transitionFull[headerSize:, :]\n",
    "            bH, bW, bD = body.shape\n",
    "            \n",
    "            origin = int(sum(speed1[:offset+1]) * (bH - height) / len(speed1))\n",
    "            transitionFrame = body[origin:origin+height-headerSize, :]\n",
    "            transitionWithHead = np.concatenate([header, transitionFrame], axis=0)\n",
    "            imageio.imwrite(\"/tmp/transition\" + str(i) + \"-\" + str(i+1) + \"f\" + str(offset) + \".png\", transitionWithHead)\n",
    "        for offset in range(24,32):\n",
    "            header = transitionFull[:headerSize, :]\n",
    "            finalFull = np.concatenate((header, im2), axis=0).astype('uint8')\n",
    "            fH, fW, fD = finalFull.shape\n",
    "            \n",
    "            origin = int(sum(speed2[:offset-23]) * (fH - height) / len(speed2))\n",
    "            transitionFrame2 = finalFull[origin:origin+height,:]\n",
    "            imageio.imwrite(\"/tmp/transition\" + str(i) + \"-\" + str(i+1) + \"f\" + str(offset) + \".png\", transitionFrame2)\n",
    "\n",
    "    elif tt == SPLIT_TRANSITION:  # perfect for extended comment\n",
    "        margin = [53,53,53] * np.ones((height/4, width, 1))\n",
    "        margin = margin.astype(int)\n",
    "        \n",
    "        headerSize = int(videoSize[1] * 0.2)\n",
    "        body = im2[headerSize:,:]\n",
    "        margin2 = [53,53,53] * np.ones((headerSize, width, 1))\n",
    "        transitionFull = np.concatenate((im1,margin,body,margin2), axis=0).astype('uint8')\n",
    "        \n",
    "        tH, tW, tD = transitionFull.shape\n",
    "        speed = [0.1,0.2,0.3,0.4,0.55,0.7,0.85,1,1,1.15,1.3,1.45,1.6,1.7,1.8,1.9,\n",
    "                1.9,1.8,1.7,1.6,1.45,1.3,1.15,1,1,0.85,0.7,0.55,0.4,0.3,0.2,0.1]\n",
    "        for offset in range(32):\n",
    "            headerSize = int(videoSize[1] * 0.2)\n",
    "            header = transitionFull[:headerSize, :]\n",
    "        \n",
    "            body = transitionFull[headerSize:, :]\n",
    "            bH, bW, bD = body.shape\n",
    "            \n",
    "            origin = int(sum(speed[:offset+1]) * (bH - height) / 32)\n",
    "            transitionFrame = body[origin:origin+height-headerSize, :]\n",
    "            transitionWithHead = np.concatenate([header, transitionFrame], axis=0)\n",
    "            imageio.imwrite(\"/tmp/transition\" + str(i) + \"-\" + str(i+1) + \"f\" + str(offset) + \".png\", transitionWithHead)"
   ]
  },
  {
   "cell_type": "markdown",
   "metadata": {},
   "source": [
    "#### The audio has now been constructed"
   ]
  },
  {
   "cell_type": "markdown",
   "metadata": {},
   "source": [
    "# Generating Movie\n",
    "\n",
    "- uses OpenCV to generate movie from frames\n",
    "- uses MoviePy to overlay audio onto movie"
   ]
  },
  {
   "cell_type": "code",
   "execution_count": 472,
   "metadata": {},
   "outputs": [],
   "source": [
    "folder = '/tmp'\n",
    "videoName = '/tmp/output.avi'\n",
    "frame = cv2.imread(frames[0][0])\n",
    "height, width, layers = frame.shape"
   ]
  },
  {
   "cell_type": "code",
   "execution_count": 473,
   "metadata": {},
   "outputs": [
    {
     "name": "stdout",
     "output_type": "stream",
     "text": [
      "49\n"
     ]
    },
    {
     "data": {
      "text/plain": [
       "51"
      ]
     },
     "execution_count": 473,
     "metadata": {},
     "output_type": "execute_result"
    }
   ],
   "source": [
    "print(len(commentQueue))\n",
    "len(framesPerCommentAt32fps)"
   ]
  },
  {
   "cell_type": "code",
   "execution_count": 414,
   "metadata": {},
   "outputs": [
    {
     "data": {
      "text/plain": [
       "'<p>Lobster used to be considered a poor mans food. </p>\\n<p>In the 17th and 18th centuries American colonists found an overwhelming amount of lobster on the shore in giant mounds (sometimes up to a mans knees) there was so much of it in fact that a child could go down to the shore and come home with buckets full of dinner. People became sick of it and started feeding it to their farm animals while Natives used it as fertilizer. </p>\\n<p>Due to this it gained a stigma being associated with poverty. The only people who ate it were slaves, indentured servants, and prisoners. A group of servants from Massachusetts actually sued because they were so sick of eating lobster and the courts ruled they would only have to eat it three times a week.</p>\\n<p> </p>\\n<p>It wasnt until the 1800s this started to change because railway managers discovered if they charged for lobster as if it were a delicacy to people who did not know its disgusting reputation then people did actually like it.  By 1920 it becomes the food of choice for the worlds aristocrats. </p>\\n<p>However its popularity took a dive during the Great Depression and once again became a poor mans food, but by 1950 it had come back in fashion as the luxury food we know today. </p>'"
      ]
     },
     "execution_count": 414,
     "metadata": {},
     "output_type": "execute_result"
    }
   ],
   "source": []
  },
  {
   "cell_type": "code",
   "execution_count": 474,
   "metadata": {},
   "outputs": [],
   "source": [
    "video = cv2.VideoWriter(videoName, 0, 32, (width, height))\n",
    "\n",
    "# add in title in front\n",
    "f = \"/tmp/title-slide.png\"\n",
    "numFrames = framesPerCommentAt32fps[0]\n",
    "for num in range(numFrames + 32):\n",
    "    video.write(cv2.imread(f))\n",
    "    \n",
    "for i in range(len(frames)):\n",
    "    f = frames[i][0]\n",
    "    numFrames = framesPerCommentAt32fps[i+1]\n",
    "    for num in range(numFrames):\n",
    "        video.write(cv2.imread(f))\n",
    "    if i < len(frames)-1:\n",
    "        for j in range(0, 32):\n",
    "            video.write(cv2.imread(\"/tmp/transition\" + str(i) + \"-\" + str(i+1) + \"f\" + str(j) + \".png\"))\n",
    "    \n",
    "# add outro slide in back\n",
    "f = \"/tmp/outro-slide.png\"\n",
    "\n",
    "numFrames = framesPerCommentAt32fps[len(framesPerCommentAt32fps) - 1]\n",
    "for num in range(numFrames):\n",
    "    video.write(cv2.imread(f))\n",
    "\n",
    "cv2.destroyAllWindows()\n",
    "video.release()"
   ]
  },
  {
   "cell_type": "markdown",
   "metadata": {},
   "source": [
    "## Overlaying Audio onto Video\n",
    "\n",
    "Finished currently and working for VLC, some encoding issue on Quicktime player"
   ]
  },
  {
   "cell_type": "code",
   "execution_count": 475,
   "metadata": {},
   "outputs": [],
   "source": [
    "import moviepy.editor as mp"
   ]
  },
  {
   "cell_type": "code",
   "execution_count": 476,
   "metadata": {},
   "outputs": [
    {
     "name": "stderr",
     "output_type": "stream",
     "text": [
      "chunk:   1%|          | 168/15342 [00:00<00:09, 1677.48it/s, now=None]"
     ]
    },
    {
     "name": "stdout",
     "output_type": "stream",
     "text": [
      "Moviepy - Building video outputSoundLogo.mp4.\n",
      "MoviePy - Writing audio in %s\n"
     ]
    },
    {
     "name": "stderr",
     "output_type": "stream",
     "text": [
      "t:   0%|          | 11/22240 [00:00<03:23, 109.03it/s, now=None]        "
     ]
    },
    {
     "name": "stdout",
     "output_type": "stream",
     "text": [
      "MoviePy - Done.\n",
      "Moviepy - Writing video outputSoundLogo.mp4\n",
      "\n"
     ]
    },
    {
     "name": "stderr",
     "output_type": "stream",
     "text": [
      "                                                                  \r"
     ]
    },
    {
     "name": "stdout",
     "output_type": "stream",
     "text": [
      "Moviepy - Done !\n",
      "Moviepy - video ready outputSoundLogo.mp4\n"
     ]
    }
   ],
   "source": [
    "audio = mp.AudioFileClip(\"/tmp/combinedBacking.wav\")\n",
    "video = mp.VideoFileClip(\"/tmp/output.avi\")\n",
    "video.audio = audio\n",
    "\n",
    "logo = (mp.ImageClip(\"logoWhite.png\")\n",
    "          .set_duration(video.duration)\n",
    "          .resize(height=120) # if you need to resize...\n",
    "          .margin(right=8, bottom=8, opacity=0) # (optional) logo-border padding\n",
    "          .set_pos((\"right\",\"bottom\")))\n",
    "\n",
    "final = mp.CompositeVideoClip([video, logo])\n",
    "\n",
    "final.write_videofile(\"outputSoundLogo.mp4\")"
   ]
  },
  {
   "cell_type": "markdown",
   "metadata": {},
   "source": [
    "## Generate The Thumbnail"
   ]
  },
  {
   "cell_type": "code",
   "execution_count": 74,
   "metadata": {},
   "outputs": [
    {
     "name": "stderr",
     "output_type": "stream",
     "text": [
      "[nltk_data] Downloading package punkt to /home/lukewulf/nltk_data...\n",
      "[nltk_data]   Package punkt is already up-to-date!\n",
      "[nltk_data] Downloading package averaged_perceptron_tagger to\n",
      "[nltk_data]     /home/lukewulf/nltk_data...\n",
      "[nltk_data]   Package averaged_perceptron_tagger is already up-to-\n",
      "[nltk_data]       date!\n"
     ]
    },
    {
     "data": {
      "text/plain": [
       "True"
      ]
     },
     "execution_count": 74,
     "metadata": {},
     "output_type": "execute_result"
    }
   ],
   "source": [
    "import nltk\n",
    "nltk.download('punkt')\n",
    "nltk.download('averaged_perceptron_tagger')"
   ]
  },
  {
   "cell_type": "code",
   "execution_count": 11,
   "metadata": {},
   "outputs": [],
   "source": [
    "title = str(title)\n",
    "capitalTitle = \"\"\n",
    "for word in title.split(' '):\n",
    "    capitalTitle = capitalTitle + word.capitalize() + ' '\n",
    "tokens = nltk.word_tokenize(capitalTitle)"
   ]
  },
  {
   "cell_type": "code",
   "execution_count": 12,
   "metadata": {},
   "outputs": [],
   "source": [
    "# JJ, NNS | NNP, NNS <- people in question\n",
    "# JJ(S), NN, NN  <-subject of question\n",
    "# VBN <- verb related to subject\n",
    "\n",
    "highlightTokens = ['JJ', 'JJS', 'NN', 'NNP', 'NNS', 'VBN', 'VBG', 'VBD']\n",
    "highlightWords = []\n",
    "for pos in nltk.pos_tag(tokens):\n",
    "    if pos[1] in highlightTokens:\n",
    "        highlightWords.append(pos[0])\n"
   ]
  },
  {
   "cell_type": "code",
   "execution_count": 13,
   "metadata": {},
   "outputs": [],
   "source": [
    "htmlTitle = capitalTitle\n",
    "for word in highlightWords:\n",
    "    htmlTitle = htmlTitle.replace(word, \"<span class='highlight'>\" + word + \"</span>\")"
   ]
  },
  {
   "cell_type": "code",
   "execution_count": 14,
   "metadata": {},
   "outputs": [],
   "source": [
    "DRIVER = 'chromedriver'\n",
    "driver = webdriver.Chrome(DRIVER)\n",
    "driver.set_window_size(1600,1000)\n",
    "url = \"localhost:8000/thumbnail.html?image=\" + str(1)\\\n",
    "        + \"&background=\" + urllib.quote_plus(\"#242424\")\\\n",
    "        + \"&highlight=\" + urllib.quote_plus(\"#f29de1\")\\\n",
    "        + \"&silver=\" + str(titleSilver)\\\n",
    "        + \"&gold=\" + str(titleGold)\\\n",
    "        + \"&platinum=\" + str(titlePlat)\\\n",
    "        + \"&title=\" + urllib.quote_plus(htmlTitle)\n",
    "\n",
    "driver.get(url)\n",
    "screenshot = driver.save_screenshot('/tmp/thumbnail.png')\n",
    "driver.quit()"
   ]
  },
  {
   "cell_type": "code",
   "execution_count": null,
   "metadata": {},
   "outputs": [],
   "source": []
  }
 ],
 "metadata": {
  "kernelspec": {
   "display_name": "Python 2",
   "language": "python",
   "name": "python2"
  },
  "language_info": {
   "codemirror_mode": {
    "name": "ipython",
    "version": 2
   },
   "file_extension": ".py",
   "mimetype": "text/x-python",
   "name": "python",
   "nbconvert_exporter": "python",
   "pygments_lexer": "ipython2",
   "version": "2.7.15+"
  }
 },
 "nbformat": 4,
 "nbformat_minor": 2
}
